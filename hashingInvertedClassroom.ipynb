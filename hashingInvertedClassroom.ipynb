{
 "cells": [
  {
   "cell_type": "code",
   "execution_count": 1,
   "metadata": {
    "collapsed": true
   },
   "outputs": [],
   "source": [
    "def insert_hashtable_1(table,key):\n",
    "    m = 10\n",
    "    address = key % m # hash function\n",
    "    if not table[address]:\n",
    "        table[address] = key\n",
    "    else:\n",
    "        i = 0\n",
    "        while table[address] and i<=(m-1):\n",
    "            i += 1\n",
    "            address += 1\n",
    "            address %= m\n",
    "        if i == m:\n",
    "            print('Error: Hashtable overflow. Key', key, 'not added to hashtable.' )\n",
    "        else:\n",
    "            table[address] = key"
   ]
  },
  {
   "cell_type": "code",
   "execution_count": 2,
   "outputs": [],
   "source": [
    "def insert_hashtable_2(table,key):\n",
    "    m = 10\n",
    "    address = key % m # hash function\n",
    "    if not table[address]:\n",
    "        table[address] = key\n",
    "    else:\n",
    "        i = 0\n",
    "        first_address = address\n",
    "        while table[address] and i<=(m-1):\n",
    "            address = first_address + i**2\n",
    "            address %= m\n",
    "            i += 1\n",
    "        if i == m:\n",
    "            print('Error: Hashtable overflow. Key', key, 'not added to hashtable.' )\n",
    "        else:\n",
    "            table[address] = key"
   ],
   "metadata": {
    "collapsed": false,
    "pycharm": {
     "name": "#%%\n"
    }
   }
  },
  {
   "cell_type": "code",
   "execution_count": 3,
   "outputs": [
    {
     "name": "stdout",
     "output_type": "stream",
     "text": [
      "[10, 11, 22, 30, 50, 63, None, None, None, None]\n"
     ]
    }
   ],
   "source": [
    "table=[None, None, None, None, None, None, None, None, None, None]\n",
    "insert_hashtable_1(table,10)\n",
    "insert_hashtable_1(table,11)\n",
    "insert_hashtable_1(table,22)\n",
    "insert_hashtable_1(table,30)\n",
    "insert_hashtable_1(table,50)\n",
    "insert_hashtable_1(table,63)\n",
    "print(table)"
   ],
   "metadata": {
    "collapsed": false,
    "pycharm": {
     "name": "#%%\n"
    }
   }
  },
  {
   "cell_type": "code",
   "execution_count": 7,
   "outputs": [
    {
     "name": "stdout",
     "output_type": "stream",
     "text": [
      "[10, 11, 22, 63, 30, None, None, None, None, 50]\n"
     ]
    }
   ],
   "source": [
    "table=[None, None, None, None, None, None, None, None, None, None]\n",
    "insert_hashtable_2(table,10)\n",
    "insert_hashtable_2(table,11)\n",
    "insert_hashtable_2(table,22)\n",
    "insert_hashtable_2(table,30)\n",
    "insert_hashtable_2(table,50)\n",
    "insert_hashtable_2(table,63)\n",
    "print(table)"
   ],
   "metadata": {
    "collapsed": false,
    "pycharm": {
     "name": "#%%\n"
    }
   }
  },
  {
   "cell_type": "code",
   "execution_count": 5,
   "outputs": [
    {
     "name": "stdout",
     "output_type": "stream",
     "text": [
      "[10, 10, 10, 10, 10, 10, 10, 10, 10, 10]\n"
     ]
    }
   ],
   "source": [
    "table=[None, None, None, None, None, None, None, None, None, None]\n",
    "insert_hashtable_1(table,10)\n",
    "insert_hashtable_1(table,10)\n",
    "insert_hashtable_1(table,10)\n",
    "insert_hashtable_1(table,10)\n",
    "insert_hashtable_1(table,10)\n",
    "insert_hashtable_1(table,10)\n",
    "insert_hashtable_1(table,10)\n",
    "insert_hashtable_1(table,10)\n",
    "insert_hashtable_1(table,10)\n",
    "insert_hashtable_1(table,10)\n",
    "print(table)"
   ],
   "metadata": {
    "collapsed": false,
    "pycharm": {
     "name": "#%%\n"
    }
   }
  },
  {
   "cell_type": "code",
   "execution_count": 6,
   "outputs": [
    {
     "name": "stdout",
     "output_type": "stream",
     "text": [
      "Error: Hashtable overflow. Key 10 not added to hashtable.\n",
      "Error: Hashtable overflow. Key 10 not added to hashtable.\n",
      "Error: Hashtable overflow. Key 10 not added to hashtable.\n",
      "Error: Hashtable overflow. Key 10 not added to hashtable.\n",
      "[10, 10, None, None, 10, 10, 10, None, None, 10]\n"
     ]
    }
   ],
   "source": [
    "table=[None, None, None, None, None, None, None, None, None, None]\n",
    "insert_hashtable_2(table,10)\n",
    "insert_hashtable_2(table,10)\n",
    "insert_hashtable_2(table,10)\n",
    "insert_hashtable_2(table,10)\n",
    "insert_hashtable_2(table,10)\n",
    "insert_hashtable_2(table,10)\n",
    "insert_hashtable_2(table,10)\n",
    "insert_hashtable_2(table,10)\n",
    "insert_hashtable_2(table,10)\n",
    "insert_hashtable_2(table,10)\n",
    "print(table)"
   ],
   "metadata": {
    "collapsed": false,
    "pycharm": {
     "name": "#%%\n"
    }
   }
  },
  {
   "cell_type": "code",
   "execution_count": 8,
   "outputs": [
    {
     "name": "stdout",
     "output_type": "stream",
     "text": [
      "1\n",
      "2\n",
      "4\n",
      "7\n",
      "11\n",
      "0\n",
      "6\n",
      "13\n",
      "5\n",
      "14\n",
      "8\n",
      "3\n",
      "15\n",
      "12\n",
      "10\n",
      "9\n"
     ]
    }
   ],
   "source": [
    "# Choice of c_1, c_2, m for quadratic probing\n",
    "for k in range(16):\n",
    "    print(int((1+1/2*k+1/2*k**2) % 16))"
   ],
   "metadata": {
    "collapsed": false,
    "pycharm": {
     "name": "#%%\n"
    }
   }
  },
  {
   "cell_type": "code",
   "execution_count": null,
   "outputs": [],
   "source": [],
   "metadata": {
    "collapsed": false,
    "pycharm": {
     "name": "#%%\n"
    }
   }
  }
 ],
 "metadata": {
  "kernelspec": {
   "display_name": "Python 3",
   "language": "python",
   "name": "python3"
  },
  "language_info": {
   "codemirror_mode": {
    "name": "ipython",
    "version": 2
   },
   "file_extension": ".py",
   "mimetype": "text/x-python",
   "name": "python",
   "nbconvert_exporter": "python",
   "pygments_lexer": "ipython2",
   "version": "2.7.6"
  }
 },
 "nbformat": 4,
 "nbformat_minor": 0
}