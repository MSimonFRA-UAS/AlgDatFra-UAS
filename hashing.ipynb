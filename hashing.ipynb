{
  "nbformat": 4,
  "nbformat_minor": 0,
  "metadata": {
    "colab": {
      "provenance": [],
      "authorship_tag": "ABX9TyOmfaBm8Pkn6BO71NPxEZ7r",
      "include_colab_link": true
    },
    "kernelspec": {
      "name": "python3",
      "display_name": "Python 3"
    },
    "language_info": {
      "name": "python"
    }
  },
  "cells": [
    {
      "cell_type": "markdown",
      "metadata": {
        "id": "view-in-github",
        "colab_type": "text"
      },
      "source": [
        "<a href=\"https://colab.research.google.com/github/MSimonFRA-UAS/AlgDatFra-UAS/blob/main/hashing.ipynb\" target=\"_parent\"><img src=\"https://colab.research.google.com/assets/colab-badge.svg\" alt=\"Open In Colab\"/></a>"
      ]
    },
    {
      "cell_type": "code",
      "execution_count": 1,
      "metadata": {
        "id": "HlAGRmnxuGrt"
      },
      "outputs": [],
      "source": [
        "def insert_hashtable_1(table,key):\n",
        "    m = 10\n",
        "    address = key % m # hash function\n",
        "    if not table[address]:\n",
        "        table[address] = key\n",
        "    else:\n",
        "        i = 0\n",
        "        while table[address] and i<=(m-1):\n",
        "            i += 1\n",
        "            address += 1\n",
        "            address %= m\n",
        "        if i == m:\n",
        "            print('Error: Hashtable overflow. Key', key, 'not added to hashtable.' )\n",
        "        else:\n",
        "            table[address] = key"
      ]
    },
    {
      "cell_type": "code",
      "source": [
        "def insert_hashtable_2(table,key):\n",
        "    m = 10\n",
        "    address = key % m # hash function\n",
        "    if not table[address]:\n",
        "        table[address] = key\n",
        "    else:\n",
        "        i = 0\n",
        "        first_address = address\n",
        "        while table[address] and i<=(m-1):\n",
        "            address = first_address + i**2\n",
        "            address %= m\n",
        "            i += 1\n",
        "        if i == m:\n",
        "            print('Error: Hashtable overflow. Key', key, 'not added to hashtable.' )\n",
        "        else:\n",
        "            table[address] = key"
      ],
      "metadata": {
        "id": "nXz8o1v_uLrD"
      },
      "execution_count": 2,
      "outputs": []
    },
    {
      "cell_type": "code",
      "source": [
        "table=[None, None, None, None, None, None, None, None, None, None]\n",
        "insert_hashtable_1(table,10)\n",
        "insert_hashtable_1(table,11)\n",
        "insert_hashtable_1(table,22)\n",
        "insert_hashtable_1(table,30)\n",
        "insert_hashtable_1(table,50)\n",
        "insert_hashtable_1(table,63)\n",
        "print(table)"
      ],
      "metadata": {
        "colab": {
          "base_uri": "https://localhost:8080/"
        },
        "id": "UEVA5P84uPpS",
        "outputId": "c16e6661-683d-495a-bfdd-7874af70cfb5"
      },
      "execution_count": 3,
      "outputs": [
        {
          "output_type": "stream",
          "name": "stdout",
          "text": [
            "[10, 11, 22, 30, 50, 63, None, None, None, None]\n"
          ]
        }
      ]
    },
    {
      "cell_type": "code",
      "source": [
        "table=[None, None, None, None, None, None, None, None, None, None]\n",
        "insert_hashtable_2(table,10)\n",
        "insert_hashtable_2(table,11)\n",
        "insert_hashtable_2(table,22)\n",
        "insert_hashtable_2(table,30)\n",
        "insert_hashtable_2(table,50)\n",
        "insert_hashtable_2(table,63)\n",
        "print(table)"
      ],
      "metadata": {
        "colab": {
          "base_uri": "https://localhost:8080/"
        },
        "id": "J5QuMG6nuSw1",
        "outputId": "b1bcea7d-4694-4c61-86af-461b1b347bd0"
      },
      "execution_count": 4,
      "outputs": [
        {
          "output_type": "stream",
          "name": "stdout",
          "text": [
            "[10, 11, 22, 63, 30, None, None, None, None, 50]\n"
          ]
        }
      ]
    },
    {
      "cell_type": "code",
      "source": [
        "table=[None, None, None, None, None, None, None, None, None, None]\n",
        "insert_hashtable_1(table,10)\n",
        "insert_hashtable_1(table,10)\n",
        "insert_hashtable_1(table,10)\n",
        "insert_hashtable_1(table,10)\n",
        "insert_hashtable_1(table,10)\n",
        "insert_hashtable_1(table,10)\n",
        "insert_hashtable_1(table,10)\n",
        "insert_hashtable_1(table,10)\n",
        "insert_hashtable_1(table,10)\n",
        "insert_hashtable_1(table,10)\n",
        "print(table)"
      ],
      "metadata": {
        "colab": {
          "base_uri": "https://localhost:8080/"
        },
        "id": "vRVgSv3IuVxo",
        "outputId": "ff569413-9112-4f97-fff3-a50570855626"
      },
      "execution_count": 5,
      "outputs": [
        {
          "output_type": "stream",
          "name": "stdout",
          "text": [
            "[10, 10, 10, 10, 10, 10, 10, 10, 10, 10]\n"
          ]
        }
      ]
    },
    {
      "cell_type": "code",
      "source": [
        "table=[None, None, None, None, None, None, None, None, None, None]\n",
        "insert_hashtable_2(table,10)\n",
        "insert_hashtable_2(table,10)\n",
        "insert_hashtable_2(table,10)\n",
        "insert_hashtable_2(table,10)\n",
        "insert_hashtable_2(table,10)\n",
        "insert_hashtable_2(table,10)\n",
        "insert_hashtable_2(table,10)\n",
        "insert_hashtable_2(table,10)\n",
        "insert_hashtable_2(table,10)\n",
        "insert_hashtable_2(table,10)\n",
        "print(table)"
      ],
      "metadata": {
        "colab": {
          "base_uri": "https://localhost:8080/"
        },
        "id": "axRoAhE0uYf1",
        "outputId": "ad0357d1-208f-4788-fb16-b8ae9b54dc3d"
      },
      "execution_count": 6,
      "outputs": [
        {
          "output_type": "stream",
          "name": "stdout",
          "text": [
            "Error: Hashtable overflow. Key 10 not added to hashtable.\n",
            "Error: Hashtable overflow. Key 10 not added to hashtable.\n",
            "Error: Hashtable overflow. Key 10 not added to hashtable.\n",
            "Error: Hashtable overflow. Key 10 not added to hashtable.\n",
            "[10, 10, None, None, 10, 10, 10, None, None, 10]\n"
          ]
        }
      ]
    },
    {
      "cell_type": "code",
      "source": [
        "# Choice of c_1, c_2, m for quadratic probing\n",
        "for k in range(16):\n",
        "    print(int((1+1/2*k+1/2*k**2) % 16))"
      ],
      "metadata": {
        "colab": {
          "base_uri": "https://localhost:8080/"
        },
        "id": "pznrICc1ubDG",
        "outputId": "518ddb14-d7bc-4e12-da99-9fa861e950ab"
      },
      "execution_count": 7,
      "outputs": [
        {
          "output_type": "stream",
          "name": "stdout",
          "text": [
            "1\n",
            "2\n",
            "4\n",
            "7\n",
            "11\n",
            "0\n",
            "6\n",
            "13\n",
            "5\n",
            "14\n",
            "8\n",
            "3\n",
            "15\n",
            "12\n",
            "10\n",
            "9\n"
          ]
        }
      ]
    }
  ]
}