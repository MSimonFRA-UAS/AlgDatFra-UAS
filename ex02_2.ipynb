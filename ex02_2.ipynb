{
  "nbformat": 4,
  "nbformat_minor": 0,
  "metadata": {
    "colab": {
      "provenance": []
    },
    "kernelspec": {
      "name": "python3",
      "display_name": "Python 3"
    },
    "language_info": {
      "name": "python"
    }
  },
  "cells": [
    {
      "cell_type": "markdown",
      "source": [
        "Dies ist die Lösung, welche wir in der Übungsstunde gemeinsam entwickelt haben: Um einen Algorithmus zu entwerfen, der den frühestmöglichen Tag für eine Mitarbeiterversammlung findet, unter der Bedingung, dass kein Mitarbeiter im Urlaub ist, könnten wir wie folgt vorgehen:\n",
        "\n",
        "1. Starte mit dem ersten Arbeitstag im Kalender.\n",
        "2. Überprüfe, ob dieser Arbeitstag mit einem Urlaubstag kollidiert. Falls ja, gehe zum nächsten ersten Arbeitstag.\n",
        "3. Wiederhole Schritt 2, bis ein Arbeitstag gefunden wird, der nicht mit einem Urlaubstag kollidiert. Dieser Arbeitstag ist der frühestmögliche Termin für die Mitarbeiterversammlung."
      ],
      "metadata": {
        "id": "MkW-h1ajRuXi"
      }
    },
    {
      "cell_type": "code",
      "execution_count": null,
      "metadata": {
        "id": "jNj2qEn8KBlP"
      },
      "outputs": [],
      "source": [
        "def findeErstenTag(urlaubstage):\n",
        "    erste_arbeitstage = []\n",
        "    erste_urlaubstage = []\n",
        "    for urlaub in urlaubstage:\n",
        "        erster_urlaubstag, erster_arbeitstag = urlaub\n",
        "        if erster_arbeitstag not in erste_arbeitstage:\n",
        "            erste_arbeitstage.append(erster_arbeitstag)\n",
        "        if erster_urlaubstag not in erste_urlaubstage:\n",
        "            erste_urlaubstage.append(erster_urlaubstag)\n",
        "\n",
        "    erste_arbeitstage.sort()  # Sortiere die ersten Arbeitstage aufsteigend\n",
        "    erste_urlaubstage.sort()  # Sortiere die ersten Urlaubstage aufsteigend\n",
        "    if erste_urlaubstage[0] > 1:\n",
        "      return 1\n",
        "    for arbeitstag in erste_arbeitstage:\n",
        "        urlaub_kollision = False\n",
        "        for urlaub in urlaubstage:\n",
        "            erster_urlaubstag, erster_arbeitstag = urlaub\n",
        "            if (arbeitstag >= erster_urlaubstag and arbeitstag < erster_arbeitstag):\n",
        "                urlaub_kollision = True\n",
        "                break\n",
        "        if not urlaub_kollision:\n",
        "            return arbeitstag\n",
        "    return None  # Rückgabe, falls kein passender Arbeitstag gefunden wurde"
      ]
    },
    {
      "cell_type": "code",
      "source": [
        "# Beispielaufruf\n",
        "urlaubstage = [[3, 5], [1,5], [6, 8], [10, 14]]  # Beispiel-Array mit Urlaubstagen\n",
        "print(findeErstenTag(urlaubstage))"
      ],
      "metadata": {
        "colab": {
          "base_uri": "https://localhost:8080/"
        },
        "id": "yGG8Gx4hKDxA",
        "outputId": "49ba8fb7-ae16-4e9c-ce6f-21f99dc767cd"
      },
      "execution_count": null,
      "outputs": [
        {
          "output_type": "stream",
          "name": "stdout",
          "text": [
            "5\n"
          ]
        }
      ]
    }
  ]
}