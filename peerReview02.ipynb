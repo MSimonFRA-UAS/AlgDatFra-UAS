{
 "cells": [
  {
   "cell_type": "markdown",
   "metadata": {
    "collapsed": true,
    "pycharm": {
     "name": "#%% md\n"
    }
   },
   "source": [
    "#### Author: Martin Simon (2021)\n",
    "#### Frankfurt University of Applied Sciences, FB2, Computer Science\n",
    "#### For educational purposes only and not necessarily very pythonic\n",
    "## Program code accompanying Peer Review Exercise Series 2\n",
    "## For execution of complete code click on \"Kernel\", then on \"Restart & Run All\"\n",
    "## At the end of your experiments click on \"File\", then on \"Close and Halt\""
   ]
  },
  {
   "cell_type": "code",
   "execution_count": 13,
   "outputs": [],
   "source": [
    "import numpy as np"
   ],
   "metadata": {
    "collapsed": false,
    "pycharm": {
     "name": "#%%\n"
    }
   }
  },
  {
   "cell_type": "code",
   "execution_count": 14,
   "outputs": [],
   "source": [
    "def sierpinski_triangle_recursive(depth, length):\n",
    "    if depth > 0:\n",
    "        return sierpinski_triangle_recursive(depth-1, length/2) + sierpinski_triangle_recursive(depth-1, length/2) + sierpinski_triangle_recursive(depth-1, length/2)\n",
    "    else:\n",
    "        return np.sqrt(length**2-(length/2)**2)*length/2"
   ],
   "metadata": {
    "collapsed": false,
    "pycharm": {
     "name": "#%%\n"
    }
   }
  },
  {
   "cell_type": "code",
   "execution_count": 15,
   "outputs": [
    {
     "name": "stdout",
     "output_type": "stream",
     "text": [
      "The area of the Sierpinski triangle with depth  10 and length  1.0 is  0.024384467157395985\n"
     ]
    }
   ],
   "source": [
    "d = 10\n",
    "l = 1.0\n",
    "print('The area of the Sierpinski triangle with depth ', d, 'and length ', l, 'is ', sierpinski_triangle_recursive(d, l))\n",
    "print(11*3**())"
   ],
   "metadata": {
    "collapsed": false,
    "pycharm": {
     "name": "#%%\n"
    }
   }
  },
  {
   "cell_type": "markdown",
   "source": [
    "# Bonus questions\n",
    "- How does the runtime complexity depend on the length l?\n",
    "\n",
    "- Up to which depth d can you compute the area in less than 1 second?\n",
    "\n",
    "- Can you come up with an algorithm with better runtime complexity?"
   ],
   "metadata": {
    "collapsed": false,
    "pycharm": {
     "name": "#%% md\n"
    }
   }
  }
 ],
 "metadata": {
  "kernelspec": {
   "display_name": "Python 3",
   "language": "python",
   "name": "python3"
  },
  "language_info": {
   "codemirror_mode": {
    "name": "ipython",
    "version": 2
   },
   "file_extension": ".py",
   "mimetype": "text/x-python",
   "name": "python",
   "nbconvert_exporter": "python",
   "pygments_lexer": "ipython2",
   "version": "2.7.6"
  }
 },
 "nbformat": 4,
 "nbformat_minor": 0
}