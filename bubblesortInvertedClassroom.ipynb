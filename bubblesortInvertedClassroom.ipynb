{
 "cells": [
  {
   "cell_type": "markdown",
   "metadata": {
    "collapsed": true,
    "pycharm": {
     "name": "#%% md\n"
    }
   },
   "source": [
    "#### Author: Jens Liebehenschel, Martin Simon (2022)\n",
    "#### Frankfurt University of Applied Sciences, FB2, Computer Science\n",
    "#### For educational purposes only and not necessarily very pythonic\n",
    "## Program code accompanying the inverted classroom session on May 25th\n",
    "## For execution of complete code click on \"Kernel\", then on \"Restart & Run All\"\n",
    "## At the end of your experiments click on \"File\", then on \"Close and Halt\""
   ]
  },
  {
   "cell_type": "code",
   "execution_count": 10,
   "outputs": [],
   "source": [
    "def bubblesort(a):\n",
    "    swapped = True\n",
    "    count = 0\n",
    "    run = 1\n",
    "    while swapped:\n",
    "        swapped = False\n",
    "        print (\"Run \" + str(run))\n",
    "        run+=1\n",
    "        for i in range(len(a)-1):   #-(run-1)\n",
    "            print (a)\n",
    "            print(\"Comparing key \" + str(a[i]) + \" with key \" + str(a[i+1]))\n",
    "            count+=1\n",
    "            if a[i] > a[i+1]:\n",
    "                a[i],a[i+1] = a[i+1],a[i] # swap elements\n",
    "                swapped = True\n",
    "        print (a)\n",
    "        print(\"Number of comparisons after \" + str(run-1) +\" runs of the while loop: \"+ str(count))\n",
    "    return a"
   ],
   "metadata": {
    "collapsed": false,
    "pycharm": {
     "name": "#%%\n"
    }
   }
  },
  {
   "cell_type": "code",
   "execution_count": 13,
   "outputs": [],
   "source": [
    "def sort(a):\n",
    "    print (\"Sorting \" + str(a))\n",
    "    print(bubblesort(a))"
   ],
   "metadata": {
    "collapsed": false,
    "pycharm": {
     "name": "#%%\n"
    }
   }
  },
  {
   "cell_type": "code",
   "execution_count": 14,
   "outputs": [
    {
     "name": "stdout",
     "output_type": "stream",
     "text": [
      "Sorting [3, 2, 4, 7, 9, 1]\n",
      "Run 1\n",
      "[3, 2, 4, 7, 9, 1]\n",
      "Comparing key 3 with key 2\n",
      "[2, 3, 4, 7, 9, 1]\n",
      "Comparing key 3 with key 4\n",
      "[2, 3, 4, 7, 9, 1]\n",
      "Comparing key 4 with key 7\n",
      "[2, 3, 4, 7, 9, 1]\n",
      "Comparing key 7 with key 9\n",
      "[2, 3, 4, 7, 9, 1]\n",
      "Comparing key 9 with key 1\n",
      "[2, 3, 4, 7, 1, 9]\n",
      "Number of comparisons after 1 runs of the while loop: 5\n",
      "Run 2\n",
      "[2, 3, 4, 7, 1, 9]\n",
      "Comparing key 2 with key 3\n",
      "[2, 3, 4, 7, 1, 9]\n",
      "Comparing key 3 with key 4\n",
      "[2, 3, 4, 7, 1, 9]\n",
      "Comparing key 4 with key 7\n",
      "[2, 3, 4, 7, 1, 9]\n",
      "Comparing key 7 with key 1\n",
      "[2, 3, 4, 1, 7, 9]\n",
      "Comparing key 7 with key 9\n",
      "[2, 3, 4, 1, 7, 9]\n",
      "Number of comparisons after 2 runs of the while loop: 10\n",
      "Run 3\n",
      "[2, 3, 4, 1, 7, 9]\n",
      "Comparing key 2 with key 3\n",
      "[2, 3, 4, 1, 7, 9]\n",
      "Comparing key 3 with key 4\n",
      "[2, 3, 4, 1, 7, 9]\n",
      "Comparing key 4 with key 1\n",
      "[2, 3, 1, 4, 7, 9]\n",
      "Comparing key 4 with key 7\n",
      "[2, 3, 1, 4, 7, 9]\n",
      "Comparing key 7 with key 9\n",
      "[2, 3, 1, 4, 7, 9]\n",
      "Number of comparisons after 3 runs of the while loop: 15\n",
      "Run 4\n",
      "[2, 3, 1, 4, 7, 9]\n",
      "Comparing key 2 with key 3\n",
      "[2, 3, 1, 4, 7, 9]\n",
      "Comparing key 3 with key 1\n",
      "[2, 1, 3, 4, 7, 9]\n",
      "Comparing key 3 with key 4\n",
      "[2, 1, 3, 4, 7, 9]\n",
      "Comparing key 4 with key 7\n",
      "[2, 1, 3, 4, 7, 9]\n",
      "Comparing key 7 with key 9\n",
      "[2, 1, 3, 4, 7, 9]\n",
      "Number of comparisons after 4 runs of the while loop: 20\n",
      "Run 5\n",
      "[2, 1, 3, 4, 7, 9]\n",
      "Comparing key 2 with key 1\n",
      "[1, 2, 3, 4, 7, 9]\n",
      "Comparing key 2 with key 3\n",
      "[1, 2, 3, 4, 7, 9]\n",
      "Comparing key 3 with key 4\n",
      "[1, 2, 3, 4, 7, 9]\n",
      "Comparing key 4 with key 7\n",
      "[1, 2, 3, 4, 7, 9]\n",
      "Comparing key 7 with key 9\n",
      "[1, 2, 3, 4, 7, 9]\n",
      "Number of comparisons after 5 runs of the while loop: 25\n",
      "Run 6\n",
      "[1, 2, 3, 4, 7, 9]\n",
      "Comparing key 1 with key 2\n",
      "[1, 2, 3, 4, 7, 9]\n",
      "Comparing key 2 with key 3\n",
      "[1, 2, 3, 4, 7, 9]\n",
      "Comparing key 3 with key 4\n",
      "[1, 2, 3, 4, 7, 9]\n",
      "Comparing key 4 with key 7\n",
      "[1, 2, 3, 4, 7, 9]\n",
      "Comparing key 7 with key 9\n",
      "[1, 2, 3, 4, 7, 9]\n",
      "Number of comparisons after 6 runs of the while loop: 30\n",
      "[1, 2, 3, 4, 7, 9]\n"
     ]
    }
   ],
   "source": [
    "#sort([5,2,7,4,6,1,3])\n",
    "sort([3, 2, 4, 7, 9, 1])\n",
    "#sort([1, 2, 3, 4, 5, 6])\n"
   ],
   "metadata": {
    "collapsed": false,
    "pycharm": {
     "name": "#%%\n"
    }
   }
  },
  {
   "cell_type": "code",
   "execution_count": null,
   "outputs": [],
   "source": [],
   "metadata": {
    "collapsed": false,
    "pycharm": {
     "name": "#%%\n"
    }
   }
  }
 ],
 "metadata": {
  "kernelspec": {
   "display_name": "Python 3",
   "language": "python",
   "name": "python3"
  },
  "language_info": {
   "codemirror_mode": {
    "name": "ipython",
    "version": 2
   },
   "file_extension": ".py",
   "mimetype": "text/x-python",
   "name": "python",
   "nbconvert_exporter": "python",
   "pygments_lexer": "ipython2",
   "version": "2.7.6"
  }
 },
 "nbformat": 4,
 "nbformat_minor": 0
}