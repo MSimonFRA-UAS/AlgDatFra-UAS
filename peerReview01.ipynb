{
 "cells": [
  {
   "cell_type": "markdown",
   "source": [
    "#### Author: Martin Simon (2022)\n",
    "#### Frankfurt University of Applied Sciences, FB2, Computer Science\n",
    "#### For educational purposes only and not necessarily very pythonic\n",
    "## Program code accompanying Peer Review Exercise Series 1\n",
    "## For execution of complete code click on \"Kernel\", then on \"Restart & Run All\"\n",
    "## At the end of your experiments click on \"File\", then on \"Close and Halt\""
   ],
   "metadata": {
    "collapsed": false
   }
  },
  {
   "cell_type": "code",
   "execution_count": 89,
   "outputs": [],
   "source": [
    "def search_iterative(A, a):\n",
    "    l=0\n",
    "    r = len(A)-1\n",
    "    k=0\n",
    "    mid=0\n",
    "    while l<r:\n",
    "        k = k+1\n",
    "        mid = (l+r-1)//2\n",
    "        print(\"mid=\",mid);print(\"l=\",l);print(\"r=\",r)\n",
    "        if A[mid] < a:\n",
    "            l = mid+1\n",
    "        else:\n",
    "            r = mid\n",
    "    return A[l] == a"
   ],
   "metadata": {
    "collapsed": false,
    "pycharm": {
     "name": "#%%\n"
    }
   }
  },
  {
   "cell_type": "code",
   "execution_count": 90,
   "outputs": [
    {
     "name": "stdout",
     "output_type": "stream",
     "text": [
      "mid= 3\n",
      "l= 0\n",
      "r= 7\n",
      "mid= 1\n",
      "l= 0\n",
      "r= 3\n",
      "mid= 2\n",
      "l= 2\n",
      "r= 3\n",
      "Entry  7 found in array [1, 4, 6, 7, 8, 13, 15, 16] : True\n"
     ]
    }
   ],
   "source": [
    "array = [1, 4, 6, 7, 8, 13, 15, 16]\n",
    "entry = 7\n",
    "print(\"Entry \", entry, \"found in array\", array, \":\", search_iterative(array, entry))\n"
   ],
   "metadata": {
    "collapsed": false,
    "pycharm": {
     "name": "#%%\n"
    }
   }
  }
 ],
 "metadata": {
  "kernelspec": {
   "display_name": "Python 3",
   "language": "python",
   "name": "python3"
  },
  "language_info": {
   "codemirror_mode": {
    "name": "ipython",
    "version": 2
   },
   "file_extension": ".py",
   "mimetype": "text/x-python",
   "name": "python",
   "nbconvert_exporter": "python",
   "pygments_lexer": "ipython2",
   "version": "2.7.6"
  }
 },
 "nbformat": 4,
 "nbformat_minor": 0
}
