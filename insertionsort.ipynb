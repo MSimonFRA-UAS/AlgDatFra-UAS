{
  "nbformat": 4,
  "nbformat_minor": 0,
  "metadata": {
    "colab": {
      "provenance": [],
      "authorship_tag": "ABX9TyNeXe2NCDt+6h2fMs910Vma",
      "include_colab_link": true
    },
    "kernelspec": {
      "name": "python3",
      "display_name": "Python 3"
    },
    "language_info": {
      "name": "python"
    }
  },
  "cells": [
    {
      "cell_type": "markdown",
      "metadata": {
        "id": "view-in-github",
        "colab_type": "text"
      },
      "source": [
        "<a href=\"https://colab.research.google.com/github/MSimonFRA-UAS/AlgDatFra-UAS/blob/main/insertionsort.ipynb\" target=\"_parent\"><img src=\"https://colab.research.google.com/assets/colab-badge.svg\" alt=\"Open In Colab\"/></a>"
      ]
    },
    {
      "cell_type": "code",
      "execution_count": 13,
      "metadata": {
        "id": "1hhsdt8CRfqe"
      },
      "outputs": [],
      "source": [
        "def insertionsort(a):\n",
        "    for j in range(1, len(a)):\n",
        "        print('j = ', j)\n",
        "        key = a[j]\n",
        "        print('key = ',key)\n",
        "        i = j-1\n",
        "        print('i = ', i)\n",
        "        while i >= 0 and a[i] > key:\n",
        "            a[i+1] = a[i]\n",
        "            i = i-1\n",
        "            print('i = ', i)\n",
        "        a[i+1] = key\n",
        "        print('a = ',a)\n",
        "        print('------------------------------')\n",
        "    return a\n"
      ]
    },
    {
      "cell_type": "code",
      "source": [
        "a_in =[5, 2, 7, 4, 6, 1, 3]\n",
        "print('Input is a=',a_in)\n",
        "insertionsort(a_in)"
      ],
      "metadata": {
        "colab": {
          "base_uri": "https://localhost:8080/"
        },
        "id": "ue9TLlC6R6LK",
        "outputId": "a935aaec-52a6-40f3-9d50-81fc8c7656c5"
      },
      "execution_count": 14,
      "outputs": [
        {
          "output_type": "stream",
          "name": "stdout",
          "text": [
            "Input is a= [5, 2, 7, 4, 6, 1, 3]\n",
            "j =  1\n",
            "key =  2\n",
            "i =  0\n",
            "i =  -1\n",
            "a =  [2, 5, 7, 4, 6, 1, 3]\n",
            "------------------------------\n",
            "j =  2\n",
            "key =  7\n",
            "i =  1\n",
            "a =  [2, 5, 7, 4, 6, 1, 3]\n",
            "------------------------------\n",
            "j =  3\n",
            "key =  4\n",
            "i =  2\n",
            "i =  1\n",
            "i =  0\n",
            "a =  [2, 4, 5, 7, 6, 1, 3]\n",
            "------------------------------\n",
            "j =  4\n",
            "key =  6\n",
            "i =  3\n",
            "i =  2\n",
            "a =  [2, 4, 5, 6, 7, 1, 3]\n",
            "------------------------------\n",
            "j =  5\n",
            "key =  1\n",
            "i =  4\n",
            "i =  3\n",
            "i =  2\n",
            "i =  1\n",
            "i =  0\n",
            "i =  -1\n",
            "a =  [1, 2, 4, 5, 6, 7, 3]\n",
            "------------------------------\n",
            "j =  6\n",
            "key =  3\n",
            "i =  5\n",
            "i =  4\n",
            "i =  3\n",
            "i =  2\n",
            "i =  1\n",
            "a =  [1, 2, 3, 4, 5, 6, 7]\n",
            "------------------------------\n"
          ]
        },
        {
          "output_type": "execute_result",
          "data": {
            "text/plain": [
              "[1, 2, 3, 4, 5, 6, 7]"
            ]
          },
          "metadata": {},
          "execution_count": 14
        }
      ]
    }
  ]
}